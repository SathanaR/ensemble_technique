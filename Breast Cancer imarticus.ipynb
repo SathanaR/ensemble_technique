{
 "cells": [
  {
   "cell_type": "code",
   "execution_count": 39,
   "id": "0942c42b",
   "metadata": {},
   "outputs": [
    {
     "data": {
      "text/html": [
       "<div>\n",
       "<style scoped>\n",
       "    .dataframe tbody tr th:only-of-type {\n",
       "        vertical-align: middle;\n",
       "    }\n",
       "\n",
       "    .dataframe tbody tr th {\n",
       "        vertical-align: top;\n",
       "    }\n",
       "\n",
       "    .dataframe thead th {\n",
       "        text-align: right;\n",
       "    }\n",
       "</style>\n",
       "<table border=\"1\" class=\"dataframe\">\n",
       "  <thead>\n",
       "    <tr style=\"text-align: right;\">\n",
       "      <th></th>\n",
       "      <th>sam_code_num</th>\n",
       "      <th>Clump_thick</th>\n",
       "      <th>Uni_of_Cell_Size</th>\n",
       "      <th>Uni_of_Cell_Shape</th>\n",
       "      <th>Marginal_Adhesion</th>\n",
       "      <th>Single_Epithelial_Cell_Size</th>\n",
       "      <th>Bare_Nuclei</th>\n",
       "      <th>Bland_Chromatin</th>\n",
       "      <th>Normal_Nucleoli</th>\n",
       "      <th>Mitoes</th>\n",
       "      <th>Class</th>\n",
       "    </tr>\n",
       "  </thead>\n",
       "  <tbody>\n",
       "    <tr>\n",
       "      <th>0</th>\n",
       "      <td>1000025</td>\n",
       "      <td>5</td>\n",
       "      <td>1</td>\n",
       "      <td>1</td>\n",
       "      <td>1</td>\n",
       "      <td>2</td>\n",
       "      <td>1.0</td>\n",
       "      <td>3</td>\n",
       "      <td>1</td>\n",
       "      <td>1</td>\n",
       "      <td>2</td>\n",
       "    </tr>\n",
       "    <tr>\n",
       "      <th>1</th>\n",
       "      <td>1002945</td>\n",
       "      <td>5</td>\n",
       "      <td>4</td>\n",
       "      <td>4</td>\n",
       "      <td>5</td>\n",
       "      <td>7</td>\n",
       "      <td>10.0</td>\n",
       "      <td>3</td>\n",
       "      <td>2</td>\n",
       "      <td>1</td>\n",
       "      <td>2</td>\n",
       "    </tr>\n",
       "    <tr>\n",
       "      <th>2</th>\n",
       "      <td>1015425</td>\n",
       "      <td>3</td>\n",
       "      <td>1</td>\n",
       "      <td>1</td>\n",
       "      <td>1</td>\n",
       "      <td>2</td>\n",
       "      <td>2.0</td>\n",
       "      <td>3</td>\n",
       "      <td>1</td>\n",
       "      <td>1</td>\n",
       "      <td>2</td>\n",
       "    </tr>\n",
       "    <tr>\n",
       "      <th>3</th>\n",
       "      <td>1016277</td>\n",
       "      <td>6</td>\n",
       "      <td>8</td>\n",
       "      <td>8</td>\n",
       "      <td>1</td>\n",
       "      <td>3</td>\n",
       "      <td>4.0</td>\n",
       "      <td>3</td>\n",
       "      <td>7</td>\n",
       "      <td>1</td>\n",
       "      <td>2</td>\n",
       "    </tr>\n",
       "    <tr>\n",
       "      <th>4</th>\n",
       "      <td>1017023</td>\n",
       "      <td>4</td>\n",
       "      <td>1</td>\n",
       "      <td>1</td>\n",
       "      <td>3</td>\n",
       "      <td>2</td>\n",
       "      <td>1.0</td>\n",
       "      <td>3</td>\n",
       "      <td>1</td>\n",
       "      <td>1</td>\n",
       "      <td>2</td>\n",
       "    </tr>\n",
       "  </tbody>\n",
       "</table>\n",
       "</div>"
      ],
      "text/plain": [
       "   sam_code_num  Clump_thick  Uni_of_Cell_Size  Uni_of_Cell_Shape  \\\n",
       "0       1000025            5                 1                  1   \n",
       "1       1002945            5                 4                  4   \n",
       "2       1015425            3                 1                  1   \n",
       "3       1016277            6                 8                  8   \n",
       "4       1017023            4                 1                  1   \n",
       "\n",
       "   Marginal_Adhesion  Single_Epithelial_Cell_Size  Bare_Nuclei  \\\n",
       "0                  1                            2          1.0   \n",
       "1                  5                            7         10.0   \n",
       "2                  1                            2          2.0   \n",
       "3                  1                            3          4.0   \n",
       "4                  3                            2          1.0   \n",
       "\n",
       "   Bland_Chromatin  Normal_Nucleoli  Mitoes  Class  \n",
       "0                3                1       1      2  \n",
       "1                3                2       1      2  \n",
       "2                3                1       1      2  \n",
       "3                3                7       1      2  \n",
       "4                3                1       1      2  "
      ]
     },
     "execution_count": 39,
     "metadata": {},
     "output_type": "execute_result"
    }
   ],
   "source": [
    "import pandas as pd\n",
    "import numpy as np\n",
    "import matplotlib.pyplot as plt\n",
    "from scipy import stats\n",
    "import seaborn as sns\n",
    "import statsmodels.api as sm\n",
    "columns=[\"sam_code_num\",\"Clump_thick\",\"Uni_of_Cell_Size\",\"Uni_of_Cell_Shape\",\"Marginal_Adhesion\",\"Single_Epithelial_Cell_Size\",\"Bare_Nuclei\",\"Bland_Chromatin\",\"Normal_Nucleoli\",\"Mitoes\",\"Class\"]\n",
    "data=pd.read_csv(\"https://archive.ics.uci.edu/ml/machine-learning-databases/breast-cancer-wisconsin/breast-cancer-wisconsin.data\",names=columns,na_values=\"?\")\n",
    "data.head()"
   ]
  },
  {
   "cell_type": "code",
   "execution_count": 40,
   "id": "4beede50",
   "metadata": {},
   "outputs": [
    {
     "name": "stdout",
     "output_type": "stream",
     "text": [
      "<class 'pandas.core.frame.DataFrame'>\n",
      "RangeIndex: 699 entries, 0 to 698\n",
      "Data columns (total 11 columns):\n",
      " #   Column                       Non-Null Count  Dtype  \n",
      "---  ------                       --------------  -----  \n",
      " 0   sam_code_num                 699 non-null    int64  \n",
      " 1   Clump_thick                  699 non-null    int64  \n",
      " 2   Uni_of_Cell_Size             699 non-null    int64  \n",
      " 3   Uni_of_Cell_Shape            699 non-null    int64  \n",
      " 4   Marginal_Adhesion            699 non-null    int64  \n",
      " 5   Single_Epithelial_Cell_Size  699 non-null    int64  \n",
      " 6   Bare_Nuclei                  683 non-null    float64\n",
      " 7   Bland_Chromatin              699 non-null    int64  \n",
      " 8   Normal_Nucleoli              699 non-null    int64  \n",
      " 9   Mitoes                       699 non-null    int64  \n",
      " 10  Class                        699 non-null    int64  \n",
      "dtypes: float64(1), int64(10)\n",
      "memory usage: 60.2 KB\n"
     ]
    }
   ],
   "source": [
    "data.info()"
   ]
  },
  {
   "cell_type": "code",
   "execution_count": 41,
   "id": "8109f624",
   "metadata": {},
   "outputs": [
    {
     "data": {
      "text/plain": [
       "sam_code_num                    0\n",
       "Clump_thick                     0\n",
       "Uni_of_Cell_Size                0\n",
       "Uni_of_Cell_Shape               0\n",
       "Marginal_Adhesion               0\n",
       "Single_Epithelial_Cell_Size     0\n",
       "Bare_Nuclei                    16\n",
       "Bland_Chromatin                 0\n",
       "Normal_Nucleoli                 0\n",
       "Mitoes                          0\n",
       "Class                           0\n",
       "dtype: int64"
      ]
     },
     "execution_count": 41,
     "metadata": {},
     "output_type": "execute_result"
    }
   ],
   "source": [
    "data.isnull().sum()"
   ]
  },
  {
   "cell_type": "code",
   "execution_count": 42,
   "id": "c1343473",
   "metadata": {},
   "outputs": [
    {
     "data": {
      "text/plain": [
       "array([ 1., 10.,  2.,  4.,  3.,  9.,  7., nan,  5.,  8.,  6.])"
      ]
     },
     "execution_count": 42,
     "metadata": {},
     "output_type": "execute_result"
    }
   ],
   "source": [
    "data.Bare_Nuclei.unique()"
   ]
  },
  {
   "cell_type": "code",
   "execution_count": 43,
   "id": "ee3d96cb",
   "metadata": {},
   "outputs": [
    {
     "data": {
      "text/plain": [
       "count    683.000000\n",
       "mean       3.544656\n",
       "std        3.643857\n",
       "min        1.000000\n",
       "25%        1.000000\n",
       "50%        1.000000\n",
       "75%        6.000000\n",
       "max       10.000000\n",
       "Name: Bare_Nuclei, dtype: float64"
      ]
     },
     "execution_count": 43,
     "metadata": {},
     "output_type": "execute_result"
    }
   ],
   "source": [
    "data.Bare_Nuclei.describe()"
   ]
  },
  {
   "cell_type": "code",
   "execution_count": 44,
   "id": "8b6e89af",
   "metadata": {},
   "outputs": [],
   "source": [
    "data.Bare_Nuclei.fillna(3.544656,inplace=True)"
   ]
  },
  {
   "cell_type": "code",
   "execution_count": 45,
   "id": "7a8e6246",
   "metadata": {},
   "outputs": [
    {
     "data": {
      "text/plain": [
       "0"
      ]
     },
     "execution_count": 45,
     "metadata": {},
     "output_type": "execute_result"
    }
   ],
   "source": [
    "data.Bare_Nuclei.isnull().sum()"
   ]
  },
  {
   "cell_type": "code",
   "execution_count": 46,
   "id": "802385c4",
   "metadata": {},
   "outputs": [
    {
     "data": {
      "text/plain": [
       "sam_code_num                   0\n",
       "Clump_thick                    0\n",
       "Uni_of_Cell_Size               0\n",
       "Uni_of_Cell_Shape              0\n",
       "Marginal_Adhesion              0\n",
       "Single_Epithelial_Cell_Size    0\n",
       "Bare_Nuclei                    0\n",
       "Bland_Chromatin                0\n",
       "Normal_Nucleoli                0\n",
       "Mitoes                         0\n",
       "Class                          0\n",
       "dtype: int64"
      ]
     },
     "execution_count": 46,
     "metadata": {},
     "output_type": "execute_result"
    }
   ],
   "source": [
    "data.isnull().sum()"
   ]
  },
  {
   "cell_type": "code",
   "execution_count": 47,
   "id": "1285b34f",
   "metadata": {},
   "outputs": [
    {
     "data": {
      "text/plain": [
       "count    699.000000\n",
       "mean       4.417740\n",
       "std        2.815741\n",
       "min        1.000000\n",
       "25%        2.000000\n",
       "50%        4.000000\n",
       "75%        6.000000\n",
       "max       10.000000\n",
       "Name: Clump_thick, dtype: float64"
      ]
     },
     "execution_count": 47,
     "metadata": {},
     "output_type": "execute_result"
    }
   ],
   "source": [
    "data.Clump_thick.describe()"
   ]
  },
  {
   "cell_type": "code",
   "execution_count": 48,
   "id": "6aa56538",
   "metadata": {},
   "outputs": [
    {
     "name": "stdout",
     "output_type": "stream",
     "text": [
      "<class 'pandas.core.frame.DataFrame'>\n",
      "RangeIndex: 699 entries, 0 to 698\n",
      "Data columns (total 11 columns):\n",
      " #   Column                       Non-Null Count  Dtype  \n",
      "---  ------                       --------------  -----  \n",
      " 0   sam_code_num                 699 non-null    int64  \n",
      " 1   Clump_thick                  699 non-null    int64  \n",
      " 2   Uni_of_Cell_Size             699 non-null    int64  \n",
      " 3   Uni_of_Cell_Shape            699 non-null    int64  \n",
      " 4   Marginal_Adhesion            699 non-null    int64  \n",
      " 5   Single_Epithelial_Cell_Size  699 non-null    int64  \n",
      " 6   Bare_Nuclei                  699 non-null    float64\n",
      " 7   Bland_Chromatin              699 non-null    int64  \n",
      " 8   Normal_Nucleoli              699 non-null    int64  \n",
      " 9   Mitoes                       699 non-null    int64  \n",
      " 10  Class                        699 non-null    int64  \n",
      "dtypes: float64(1), int64(10)\n",
      "memory usage: 60.2 KB\n"
     ]
    }
   ],
   "source": [
    "data.info()"
   ]
  },
  {
   "cell_type": "code",
   "execution_count": 49,
   "id": "be8e632e",
   "metadata": {},
   "outputs": [
    {
     "data": {
      "text/plain": [
       "{'whiskers': [<matplotlib.lines.Line2D at 0x4365355340>,\n",
       "  <matplotlib.lines.Line2D at 0x43653556d0>],\n",
       " 'caps': [<matplotlib.lines.Line2D at 0x4365355a60>,\n",
       "  <matplotlib.lines.Line2D at 0x4365355df0>],\n",
       " 'boxes': [<matplotlib.lines.Line2D at 0x4365345f70>],\n",
       " 'medians': [<matplotlib.lines.Line2D at 0x43653611c0>],\n",
       " 'fliers': [<matplotlib.lines.Line2D at 0x4365361550>],\n",
       " 'means': []}"
      ]
     },
     "execution_count": 49,
     "metadata": {},
     "output_type": "execute_result"
    },
    {
     "data": {
      "image/png": "[encoded data removed]",
      "text/plain": [
       "<Figure size 432x288 with 1 Axes>"
      ]
     },
     "metadata": {
      "needs_background": "light"
     },
     "output_type": "display_data"
    }
   ],
   "source": [
    "plt.boxplot(data.Bare_Nuclei)"
   ]
  },
  {
   "cell_type": "code",
   "execution_count": 50,
   "id": "bd762da5",
   "metadata": {},
   "outputs": [],
   "source": [
    "from sklearn.model_selection import train_test_split"
   ]
  },
  {
   "cell_type": "code",
   "execution_count": 57,
   "id": "6c26650e",
   "metadata": {},
   "outputs": [
    {
     "name": "stdout",
     "output_type": "stream",
     "text": [
      "0      2\n",
      "1      2\n",
      "2      2\n",
      "3      2\n",
      "4      2\n",
      "      ..\n",
      "694    2\n",
      "695    2\n",
      "696    4\n",
      "697    4\n",
      "698    4\n",
      "Name: Class, Length: 699, dtype: int64\n"
     ]
    }
   ],
   "source": [
    "y=data.Class\n",
    "print(y)"
   ]
  },
  {
   "cell_type": "code",
   "execution_count": 58,
   "id": "08cec176",
   "metadata": {},
   "outputs": [
    {
     "name": "stdout",
     "output_type": "stream",
     "text": [
      "     sam_code_num  Clump_thick  Uni_of_Cell_Size  Uni_of_Cell_Shape  \\\n",
      "0         1000025            5                 1                  1   \n",
      "1         1002945            5                 4                  4   \n",
      "2         1015425            3                 1                  1   \n",
      "3         1016277            6                 8                  8   \n",
      "4         1017023            4                 1                  1   \n",
      "..            ...          ...               ...                ...   \n",
      "694        776715            3                 1                  1   \n",
      "695        841769            2                 1                  1   \n",
      "696        888820            5                10                 10   \n",
      "697        897471            4                 8                  6   \n",
      "698        897471            4                 8                  8   \n",
      "\n",
      "     Marginal_Adhesion  Single_Epithelial_Cell_Size  Bare_Nuclei  \\\n",
      "0                    1                            2          1.0   \n",
      "1                    5                            7         10.0   \n",
      "2                    1                            2          2.0   \n",
      "3                    1                            3          4.0   \n",
      "4                    3                            2          1.0   \n",
      "..                 ...                          ...          ...   \n",
      "694                  1                            3          2.0   \n",
      "695                  1                            2          1.0   \n",
      "696                  3                            7          3.0   \n",
      "697                  4                            3          4.0   \n",
      "698                  5                            4          5.0   \n",
      "\n",
      "     Bland_Chromatin  Normal_Nucleoli  Mitoes  \n",
      "0                  3                1       1  \n",
      "1                  3                2       1  \n",
      "2                  3                1       1  \n",
      "3                  3                7       1  \n",
      "4                  3                1       1  \n",
      "..               ...              ...     ...  \n",
      "694                1                1       1  \n",
      "695                1                1       1  \n",
      "696                8               10       2  \n",
      "697               10                6       1  \n",
      "698               10                4       1  \n",
      "\n",
      "[699 rows x 10 columns]\n"
     ]
    }
   ],
   "source": [
    "x=data.drop('Class',axis=1)\n",
    "print(x)"
   ]
  },
  {
   "cell_type": "code",
   "execution_count": 59,
   "id": "4b3fc0cb",
   "metadata": {},
   "outputs": [],
   "source": [
    "train_x,test_x,train_y,test_y=train_test_split(x,y,train_size=0.8,test_size=0.2,random_state =100)"
   ]
  },
  {
   "cell_type": "code",
   "execution_count": 60,
   "id": "b5bc59ed",
   "metadata": {},
   "outputs": [
    {
     "name": "stdout",
     "output_type": "stream",
     "text": [
      "     sam_code_num  Clump_thick  Uni_of_Cell_Size  Uni_of_Cell_Shape  \\\n",
      "491       1119189            5                 8                  9   \n",
      "614       1031608            2                 1                  1   \n",
      "277        452264            1                 1                  1   \n",
      "404       1223543            1                 2                  1   \n",
      "529       8233704            4                 1                  1   \n",
      "..            ...          ...               ...                ...   \n",
      "578        695219            1                 1                  1   \n",
      "53        1110503            5                 5                  5   \n",
      "350        836433            5                 1                  1   \n",
      "79        1136142            2                 1                  1   \n",
      "520        333093            1                 1                  1   \n",
      "\n",
      "     Marginal_Adhesion  Single_Epithelial_Cell_Size  Bare_Nuclei  \\\n",
      "491                  4                            3         10.0   \n",
      "614                  1                            1          1.0   \n",
      "277                  1                            2          1.0   \n",
      "404                  3                            2          1.0   \n",
      "529                  1                            1          1.0   \n",
      "..                 ...                          ...          ...   \n",
      "578                  1                            2          1.0   \n",
      "53                   8                           10          8.0   \n",
      "350                  3                            2          1.0   \n",
      "79                   1                            3          1.0   \n",
      "520                  1                            3          1.0   \n",
      "\n",
      "     Bland_Chromatin  Normal_Nucleoli  Mitoes  \n",
      "491                7                1       1  \n",
      "614                2                1       1  \n",
      "277                2                1       1  \n",
      "404                1                2       1  \n",
      "529                2                1       1  \n",
      "..               ...              ...     ...  \n",
      "578                2                1       1  \n",
      "53                 7                3       7  \n",
      "350                1                1       1  \n",
      "79                 2                1       1  \n",
      "520                1                1       1  \n",
      "\n",
      "[559 rows x 10 columns]\n",
      "     sam_code_num  Clump_thick  Uni_of_Cell_Size  Uni_of_Cell_Shape  \\\n",
      "384       1026122            2                 1                  1   \n",
      "319        721482            4                 4                  4   \n",
      "227       1228152            8                 9                  9   \n",
      "421       1257200           10                10                 10   \n",
      "395       1168278            3                 1                  1   \n",
      "..            ...          ...               ...                ...   \n",
      "44        1103608           10                10                 10   \n",
      "358        866325            8                10                  5   \n",
      "31        1071760            2                 1                  1   \n",
      "264        314428            7                 9                  4   \n",
      "189       1208301            1                 2                  3   \n",
      "\n",
      "     Marginal_Adhesion  Single_Epithelial_Cell_Size  Bare_Nuclei  \\\n",
      "384                  1                            2          1.0   \n",
      "319                  4                            6          5.0   \n",
      "227                  5                            3          5.0   \n",
      "421                  7                           10         10.0   \n",
      "395                  1                            2          1.0   \n",
      "..                 ...                          ...          ...   \n",
      "44                   4                            8          1.0   \n",
      "358                  3                            8          4.0   \n",
      "31                   1                            2          1.0   \n",
      "264                 10                           10          3.0   \n",
      "189                  1                            2          1.0   \n",
      "\n",
      "     Bland_Chromatin  Normal_Nucleoli  Mitoes  \n",
      "384                1                1       1  \n",
      "319                7                3       1  \n",
      "227                7                7       1  \n",
      "421                8                2       1  \n",
      "395                2                1       1  \n",
      "..               ...              ...     ...  \n",
      "44                 8               10       1  \n",
      "358                4               10       3  \n",
      "31                 3                1       1  \n",
      "264                5                3       3  \n",
      "189                3                1       1  \n",
      "\n",
      "[140 rows x 10 columns]\n",
      "491    4\n",
      "614    2\n",
      "277    2\n",
      "404    2\n",
      "529    2\n",
      "      ..\n",
      "578    2\n",
      "53     4\n",
      "350    2\n",
      "79     2\n",
      "520    2\n",
      "Name: Class, Length: 559, dtype: int64\n",
      "384    2\n",
      "319    2\n",
      "227    4\n",
      "421    4\n",
      "395    2\n",
      "      ..\n",
      "44     4\n",
      "358    4\n",
      "31     2\n",
      "264    4\n",
      "189    2\n",
      "Name: Class, Length: 140, dtype: int64\n"
     ]
    }
   ],
   "source": [
    "print(train_x)\n",
    "print(test_x)\n",
    "print(train_y)\n",
    "print(test_y)"
   ]
  },
  {
   "cell_type": "code",
   "execution_count": 69,
   "id": "40aea0a5",
   "metadata": {},
   "outputs": [
    {
     "data": {
      "text/plain": [
       "0.960644007155635"
      ]
     },
     "execution_count": 69,
     "metadata": {},
     "output_type": "execute_result"
    }
   ],
   "source": [
    "from sklearn.linear_model import LogisticRegression\n",
    "model = LogisticRegression().fit(train_x,train_y)\n",
    "model.score(train_x,train_y)"
   ]
  },
  {
   "cell_type": "code",
   "execution_count": 70,
   "id": "1ec51e8b",
   "metadata": {},
   "outputs": [
    {
     "name": "stdout",
     "output_type": "stream",
     "text": [
      "[2 4 4 4 2 2 2 2 4 4 4 2 2 2 4 2 2 4 2 4 4 2 2 2 4 4 4 2 2 4 2 4 2 4 4 2 4\n",
      " 2 4 2 2 2 2 2 2 4 2 2 2 2 4 2 2 4 4 2 2 2 2 2 2 2 4 4 4 2 4 2 2 4 2 4 2 4\n",
      " 4 2 2 2 4 2 2 2 2 2 4 4 2 2 2 4 2 4 2 2 4 4 2 2 2 2 4 4 4 4 4 4 2 2 4 2 2\n",
      " 2 2 2 2 2 4 4 4 4 2 4 2 2 2 2 2 4 2 2 4 4 2 4 4 4 4 2 4 2]\n"
     ]
    }
   ],
   "source": [
    "predicted_value=model.predict(test_x)\n",
    "print(predicted_value)"
   ]
  },
  {
   "cell_type": "code",
   "execution_count": 71,
   "id": "db1d41a2",
   "metadata": {},
   "outputs": [
    {
     "name": "stdout",
     "output_type": "stream",
     "text": [
      "[[9.92946195e-01 7.05380514e-03]\n",
      " [1.68364140e-01 8.31635860e-01]\n",
      " [4.81545925e-04 9.99518454e-01]\n",
      " [4.13413785e-04 9.99586586e-01]\n",
      " [9.96742908e-01 3.25709172e-03]\n",
      " [9.94395341e-01 5.60465943e-03]\n",
      " [9.95584301e-01 4.41569905e-03]\n",
      " [9.97675597e-01 2.32440340e-03]\n",
      " [1.27656106e-01 8.72343894e-01]\n",
      " [2.10234837e-01 7.89765163e-01]\n",
      " [1.73131011e-03 9.98268690e-01]\n",
      " [9.98722896e-01 1.27710436e-03]\n",
      " [9.98534643e-01 1.46535724e-03]\n",
      " [9.96055544e-01 3.94445635e-03]\n",
      " [5.16575047e-04 9.99483425e-01]\n",
      " [9.97690400e-01 2.30959974e-03]\n",
      " [9.81239176e-01 1.87608243e-02]\n",
      " [9.64603148e-02 9.03539685e-01]\n",
      " [6.94607800e-01 3.05392200e-01]\n",
      " [2.92959864e-03 9.97070401e-01]\n",
      " [3.76521062e-07 9.99999623e-01]\n",
      " [9.99048952e-01 9.51047899e-04]\n",
      " [9.71796005e-01 2.82039946e-02]\n",
      " [9.67689298e-01 3.23107022e-02]\n",
      " [5.64583876e-05 9.99943542e-01]\n",
      " [1.40290736e-05 9.99985971e-01]\n",
      " [4.65136041e-04 9.99534864e-01]\n",
      " [9.81297424e-01 1.87025761e-02]\n",
      " [8.56046495e-01 1.43953505e-01]\n",
      " [5.81602228e-04 9.99418398e-01]\n",
      " [9.91351293e-01 8.64870719e-03]\n",
      " [3.79118414e-02 9.62088159e-01]\n",
      " [9.95412285e-01 4.58771469e-03]\n",
      " [3.65996424e-03 9.96340036e-01]\n",
      " [1.35970661e-02 9.86402934e-01]\n",
      " [7.44409075e-01 2.55590925e-01]\n",
      " [1.45656654e-02 9.85434335e-01]\n",
      " [9.94570359e-01 5.42964065e-03]\n",
      " [8.45757750e-03 9.91542422e-01]\n",
      " [9.98286372e-01 1.71362816e-03]\n",
      " [9.98740899e-01 1.25910144e-03]\n",
      " [9.67545637e-01 3.24543627e-02]\n",
      " [9.97640250e-01 2.35975045e-03]\n",
      " [8.44372003e-01 1.55627997e-01]\n",
      " [9.97982420e-01 2.01758000e-03]\n",
      " [2.60854668e-02 9.73914533e-01]\n",
      " [9.94420492e-01 5.57950803e-03]\n",
      " [9.17150804e-01 8.28491965e-02]\n",
      " [9.93200788e-01 6.79921184e-03]\n",
      " [9.94977047e-01 5.02295343e-03]\n",
      " [4.28755477e-01 5.71244523e-01]\n",
      " [9.95301814e-01 4.69818615e-03]\n",
      " [9.80468298e-01 1.95317018e-02]\n",
      " [1.56073874e-03 9.98439261e-01]\n",
      " [4.04084139e-03 9.95959159e-01]\n",
      " [9.97825536e-01 2.17446353e-03]\n",
      " [9.98524215e-01 1.47578458e-03]\n",
      " [9.95044759e-01 4.95524078e-03]\n",
      " [8.62916977e-01 1.37083023e-01]\n",
      " [9.96607853e-01 3.39214736e-03]\n",
      " [9.97541801e-01 2.45819946e-03]\n",
      " [9.95606925e-01 4.39307542e-03]\n",
      " [9.65069863e-03 9.90349301e-01]\n",
      " [2.63424668e-01 7.36575332e-01]\n",
      " [3.26053804e-03 9.96739462e-01]\n",
      " [5.84070419e-01 4.15929581e-01]\n",
      " [2.86135964e-05 9.99971386e-01]\n",
      " [9.98524293e-01 1.47570705e-03]\n",
      " [9.78045130e-01 2.19548705e-02]\n",
      " [1.06626620e-03 9.98933734e-01]\n",
      " [9.11582218e-01 8.84177816e-02]\n",
      " [7.23198893e-04 9.99276801e-01]\n",
      " [8.24146677e-01 1.75853323e-01]\n",
      " [7.18016953e-04 9.99281983e-01]\n",
      " [1.20811346e-06 9.99998792e-01]\n",
      " [9.91826745e-01 8.17325522e-03]\n",
      " [6.37972749e-01 3.62027251e-01]\n",
      " [9.97085016e-01 2.91498396e-03]\n",
      " [1.10320075e-05 9.99988968e-01]\n",
      " [6.85355042e-01 3.14644958e-01]\n",
      " [9.98727314e-01 1.27268642e-03]\n",
      " [9.72559368e-01 2.74406316e-02]\n",
      " [9.96211935e-01 3.78806484e-03]\n",
      " [9.72553677e-01 2.74463230e-02]\n",
      " [3.82747476e-03 9.96172525e-01]\n",
      " [1.57901197e-01 8.42098803e-01]\n",
      " [9.97500102e-01 2.49989841e-03]\n",
      " [9.96019369e-01 3.98063108e-03]\n",
      " [9.83207671e-01 1.67923290e-02]\n",
      " [2.64436467e-04 9.99735564e-01]\n",
      " [9.98122297e-01 1.87770293e-03]\n",
      " [1.49470324e-05 9.99985053e-01]\n",
      " [9.55840360e-01 4.41596397e-02]\n",
      " [9.35802578e-01 6.41974224e-02]\n",
      " [3.11002486e-03 9.96889975e-01]\n",
      " [5.83883896e-05 9.99941612e-01]\n",
      " [9.96066042e-01 3.93395805e-03]\n",
      " [9.98095554e-01 1.90444570e-03]\n",
      " [9.02959429e-01 9.70405710e-02]\n",
      " [9.95686514e-01 4.31348560e-03]\n",
      " [1.74311778e-01 8.25688222e-01]\n",
      " [4.85863191e-02 9.51413681e-01]\n",
      " [1.00421576e-02 9.89957842e-01]\n",
      " [2.39680205e-04 9.99760320e-01]\n",
      " [1.25576199e-03 9.98744238e-01]\n",
      " [5.94163695e-06 9.99994058e-01]\n",
      " [9.49074639e-01 5.09253613e-02]\n",
      " [9.96015078e-01 3.98492196e-03]\n",
      " [2.45020082e-03 9.97549799e-01]\n",
      " [7.61370901e-01 2.38629099e-01]\n",
      " [9.60130771e-01 3.98692288e-02]\n",
      " [9.95038013e-01 4.96198737e-03]\n",
      " [9.91735764e-01 8.26423565e-03]\n",
      " [9.98805093e-01 1.19490716e-03]\n",
      " [9.93753086e-01 6.24691365e-03]\n",
      " [9.94538038e-01 5.46196175e-03]\n",
      " [8.92683615e-03 9.91073164e-01]\n",
      " [6.02960081e-04 9.99397040e-01]\n",
      " [5.64583876e-05 9.99943542e-01]\n",
      " [4.73235493e-01 5.26764507e-01]\n",
      " [9.77737173e-01 2.22628272e-02]\n",
      " [1.69461789e-04 9.99830538e-01]\n",
      " [9.97335481e-01 2.66451870e-03]\n",
      " [9.96251262e-01 3.74873826e-03]\n",
      " [9.89442474e-01 1.05575257e-02]\n",
      " [9.89329566e-01 1.06704339e-02]\n",
      " [9.98131851e-01 1.86814853e-03]\n",
      " [6.85007463e-03 9.93149925e-01]\n",
      " [9.94439622e-01 5.56037818e-03]\n",
      " [9.60837775e-01 3.91622252e-02]\n",
      " [7.12406795e-04 9.99287593e-01]\n",
      " [6.65502496e-03 9.93344975e-01]\n",
      " [9.97636696e-01 2.36330440e-03]\n",
      " [9.96387062e-03 9.90036129e-01]\n",
      " [4.25266077e-04 9.99574734e-01]\n",
      " [1.77680431e-03 9.98223196e-01]\n",
      " [1.36043761e-03 9.98639562e-01]\n",
      " [9.95199185e-01 4.80081496e-03]\n",
      " [6.53502828e-03 9.93464972e-01]\n",
      " [9.87055244e-01 1.29447555e-02]]\n"
     ]
    }
   ],
   "source": [
    "probability=model.predict_proba(test_x)\n",
    "print(probability)"
   ]
  }
 ],
 "metadata": {
  "kernelspec": {
   "display_name": "Python 3 (ipykernel)",
   "language": "python",
   "name": "python3"
  },
  "language_info": {
   "codemirror_mode": {
    "name": "ipython",
    "version": 3
   },
   "file_extension": ".py",
   "mimetype": "text/x-python",
   "name": "python",
   "nbconvert_exporter": "python",
   "pygments_lexer": "ipython3",
   "version": "3.9.7"
  }
 },
 "nbformat": 4,
 "nbformat_minor": 5
}
